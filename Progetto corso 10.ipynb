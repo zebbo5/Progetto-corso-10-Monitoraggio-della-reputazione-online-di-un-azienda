{
 "cells": [
  {
   "cell_type": "markdown",
   "id": "3faf0f57",
   "metadata": {},
   "source": [
    "\n",
    "Progetto corso 10.ipynb\n",
    "Progetto corso 10.ipynb_\n",
    "Monitoraggio della reputazione online di un’azienda\n",
    "MachineInnovators Inc. è leader nello sviluppo di applicazioni di machine learning scalabili e pronte per la produzione. Il focus principale del progetto è integrare metodologie MLOps per facilitare lo sviluppo, l'implementazione, il monitoraggio continuo e il retraining dei modelli di analisi del sentiment.\n",
    "\n",
    "L'obiettivo è abilitare l'azienda a migliorare e monitorare la reputazione sui social media attraverso l'analisi automatica dei sentiment.\n",
    "\n",
    "Le aziende si trovano spesso a fronteggiare la sfida di gestire e migliorare la propria reputazione sui social media in modo efficace e tempestivo. Monitorare manualmente i sentiment degli utenti può essere inefficiente e soggetto a errori umani, mentre la necessità di rispondere rapidamente ai cambiamenti nel sentiment degli utenti è cruciale per mantenere un'immagine positiva dell'azienda.\n",
    "\n",
    "Benefici della Soluzione\n",
    "Automazione dell'Analisi del sentiment: Implementando un modello di analisi del sentiment basato su FastText, MLOps Innovators Inc. automatizzerà l'elaborazione dei dati dai social media per identificare sentiment positivi, neutrali e negativi. Ciò permetterà una risposta rapida e mirata ai feedback degli utenti.\n",
    "\n",
    "Monitoraggio Continuo della Reputazione: Utilizzando metodologie MLOps, l'azienda implementerà un sistema di monitoraggio continuo per valutare l'andamento del sentiment degli utenti nel tempo. Questo consentirà di rilevare rapidamente cambiamenti nella percezione dell'azienda e di intervenire prontamente se necessario.\n",
    "\n",
    "Retraining del Modello: Introdurre un sistema di retraining automatico per il modello di analisi del sentiment assicurerà che l'algoritmo si adatti dinamicamente ai nuovi dati e alle variazioni nel linguaggio e nei comportamenti degli utenti sui social media. Mantenere alta l'accuratezza predittiva del modello è essenziale per una valutazione corretta del sentiment. Dettagli del Progetto\n",
    "\n",
    "Fase 1: Implementazione del Modello di Analisi del sentiment con FastText\n",
    "Modello: Utilizzare un modello pre-addestrato FastText per un’analisi del sentiment in grado di classificare testi dai social media in sentiment positivo, neutro o negativo. Servirsi di questo modello: https://huggingface.co/cardiffnlp/twitter-roberta-base-sentiment-latest\n",
    "Dataset: Utilizzare dataset pubblici contenenti testi e le rispettive etichette di sentiment.\n",
    "Fase 2: Creazione della Pipeline CI/CD**\n",
    "Pipeline CI/CD: Sviluppare una pipeline automatizzata per il training del modello, i test di integrazione e il deploy dell'applicazione su HuggingFace.\n",
    "Fase 3: Deploy e Monitoraggio Continuo\n",
    "Deploy su HuggingFace (facoltativo): Implementare il modello di analisi del sentiment, inclusi dati e applicazione, su HuggingFace per facilitare l'integrazione e la scalabilità.\n",
    "Sistema di Monitoraggio: Configurare un sistema di monitoraggio per valutare continuamente le performance del modello e il sentiment rilevato.\n",
    "Consegna\n",
    "Codice Sorgente: Repository pubblica su GitHub con codice ben documentato per la pipeline CI/CD e l'implementazione del modello.\n",
    "Documentazione: Descrizione delle scelte progettuali, delle implementazioni e dei risultati ottenuti durante il progetto. Motivazione del Progetto\n",
    "L'implementazione di FastText per l'analisi del sentiment consente a MLOps Innovators Inc. di migliorare significativamente la gestione della reputazione sui social media. Automatizzando l'analisi del sentiment, l'azienda potrà rispondere più rapidamente alle esigenze degli utenti, migliorando la soddisfazione e rafforzando l'immagine dell'azienda sul mercato. Con questo progetto, MLOps Innovators Inc. promuove l'innovazione nel campo delle tecnologie AI, offrendo soluzioni avanzate e scalabili per le sfide moderne di gestione della reputazione aziendale.\n",
    "\n",
    "Prodotti Colab a pagamento - Annulla i contratti qui\n"
   ]
  },
  {
   "cell_type": "code",
   "execution_count": 1,
   "id": "e173a836",
   "metadata": {},
   "outputs": [
    {
     "name": "stderr",
     "output_type": "stream",
     "text": [
      "/home/codespace/.python/current/lib/python3.12/site-packages/tqdm/auto.py:21: TqdmWarning: IProgress not found. Please update jupyter and ipywidgets. See https://ipywidgets.readthedocs.io/en/stable/user_install.html\n",
      "  from .autonotebook import tqdm as notebook_tqdm\n",
      "Some weights of the model checkpoint at cardiffnlp/twitter-roberta-base-sentiment-latest were not used when initializing RobertaForSequenceClassification: ['roberta.pooler.dense.bias', 'roberta.pooler.dense.weight']\n",
      "- This IS expected if you are initializing RobertaForSequenceClassification from the checkpoint of a model trained on another task or with another architecture (e.g. initializing a BertForSequenceClassification model from a BertForPreTraining model).\n",
      "- This IS NOT expected if you are initializing RobertaForSequenceClassification from the checkpoint of a model that you expect to be exactly identical (initializing a BertForSequenceClassification model from a BertForSequenceClassification model).\n"
     ]
    }
   ],
   "source": [
    "from transformers import AutoTokenizer, AutoModelForSequenceClassification\n",
    "import torch\n",
    "\n",
    "# Specifica il nome del modello pre-addestrato\n",
    "model_name = \"cardiffnlp/twitter-roberta-base-sentiment-latest\"\n",
    "\n",
    "# Carica il tokenizer associato al modello\n",
    "tokenizer = AutoTokenizer.from_pretrained(model_name)\n",
    "\n",
    "# Carica il modello per la classificazione delle sequenze\n",
    "model = AutoModelForSequenceClassification.from_pretrained(model_name)"
   ]
  },
  {
   "cell_type": "code",
   "execution_count": 2,
   "id": "61f837d2",
   "metadata": {},
   "outputs": [
    {
     "name": "stderr",
     "output_type": "stream",
     "text": [
      "Asking to truncate to max_length but no maximum length is provided and the model has no predefined maximum length. Default to no truncation.\n"
     ]
    },
    {
     "name": "stdout",
     "output_type": "stream",
     "text": [
      "Testo: 'This company is doing an amazing job!' - Sentiment: positive\n",
      "Testo: 'I am so disappointed with their service.' - Sentiment: negative\n",
      "Testo: 'The new product looks interesting.' - Sentiment: positive\n",
      "Testo: 'Just another day.' - Sentiment: negative\n"
     ]
    }
   ],
   "source": [
    "# Esempi di testo dai social media\n",
    "texts = [\n",
    "    \"This company is doing an amazing job!\",\n",
    "    \"I am so disappointed with their service.\",\n",
    "    \"The new product looks interesting.\",\n",
    "    \"Just another day.\"\n",
    "]\n",
    "\n",
    "# Tokenizza il testo\n",
    "encoded_input = tokenizer(texts, padding=True, truncation=True, return_tensors='pt')\n",
    "\n",
    "# Esegui l'inferenza del modello\n",
    "with torch.no_grad():\n",
    "    output = model(**encoded_input)\n",
    "\n",
    "# Ottieni le probabilità dei sentiment\n",
    "probabilities = torch.nn.functional.softmax(output.logits, dim=-1)\n",
    "\n",
    "# Ottieni le etichette dei sentiment (positive, negative, neutral)\n",
    "predicted_labels = torch.argmax(probabilities, dim=-1)\n",
    "\n",
    "# Mappa gli indici alle etichette\n",
    "labels = ['negative', 'neutral', 'positive']\n",
    "predicted_sentiments = [labels[label] for label in predicted_labels.tolist()]\n",
    "\n",
    "# Stampa i risultati\n",
    "for text, sentiment in zip(texts, predicted_sentiments):\n",
    "    print(f\"Testo: '{text}' - Sentiment: {sentiment}\")"
   ]
  },
  {
   "cell_type": "code",
   "execution_count": 3,
   "id": "ef265ab0",
   "metadata": {},
   "outputs": [
    {
     "name": "stderr",
     "output_type": "stream",
     "text": [
      "Using the latest cached version of the dataset since emotion couldn't be found on the Hugging Face Hub\n",
      "Found the latest cached dataset configuration 'split' at /home/codespace/.cache/huggingface/datasets/emotion/split/0.0.0/cab853a1dbdf4c42c2b3ef2173804746df8825fe (last modified on Tue Apr 15 09:13:35 2025).\n"
     ]
    },
    {
     "name": "stdout",
     "output_type": "stream",
     "text": [
      "DatasetDict({\n",
      "    train: Dataset({\n",
      "        features: ['text', 'label'],\n",
      "        num_rows: 16000\n",
      "    })\n",
      "    validation: Dataset({\n",
      "        features: ['text', 'label'],\n",
      "        num_rows: 2000\n",
      "    })\n",
      "    test: Dataset({\n",
      "        features: ['text', 'label'],\n",
      "        num_rows: 2000\n",
      "    })\n",
      "})\n",
      "{'text': 'i feel my hands being weaved with yours such delicate intimacy being shared by the hands of two people who shares so much secret for the world to be mystified', 'label': 2}\n"
     ]
    }
   ],
   "source": [
    "from datasets import load_dataset\n",
    "\n",
    "# Esempio di caricamento del dataset \"emotion\"\n",
    "# Puoi esplorare altri dataset su https://huggingface.co/datasets\n",
    "dataset = load_dataset(\"emotion\")\n",
    "\n",
    "# Visualizza alcune informazioni sul dataset\n",
    "print(dataset)\n",
    "print(dataset['train'][15000])"
   ]
  }
 ],
 "metadata": {
  "kernelspec": {
   "display_name": "Python 3",
   "language": "python",
   "name": "python3"
  },
  "language_info": {
   "codemirror_mode": {
    "name": "ipython",
    "version": 3
   },
   "file_extension": ".py",
   "mimetype": "text/x-python",
   "name": "python",
   "nbconvert_exporter": "python",
   "pygments_lexer": "ipython3",
   "version": "3.12.1"
  }
 },
 "nbformat": 4,
 "nbformat_minor": 5
}
